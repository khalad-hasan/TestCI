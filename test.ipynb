{
 "cells": [
  {
   "cell_type": "code",
   "execution_count": 1,
   "id": "15a46d6a-4006-439e-a69f-9aa3457b2689",
   "metadata": {},
   "outputs": [],
   "source": [
    "import package.user_subpackage as user"
   ]
  },
  {
   "cell_type": "code",
   "execution_count": 2,
   "id": "1096f9a8-2c84-47ad-b9cf-f75eff3740d9",
   "metadata": {},
   "outputs": [],
   "source": [
    "import package.user_subpackage.service as sr"
   ]
  },
  {
   "cell_type": "code",
   "execution_count": 4,
   "id": "d08bb8c1-0169-4d24-9d77-cec451246a04",
   "metadata": {},
   "outputs": [],
   "source": [
    "service1 = sr.Service()"
   ]
  },
  {
   "cell_type": "code",
   "execution_count": 5,
   "id": "ef6ffd5a-d6c0-4f10-aa2d-1075f84d1a5b",
   "metadata": {},
   "outputs": [
    {
     "name": "stdout",
     "output_type": "stream",
     "text": [
      "1.Bank information storage 2. Simple savings tracker 3.Basic budget Planning 4.Detailed analysis and customized suggestion\n"
     ]
    }
   ],
   "source": [
    "service1.list()"
   ]
  },
  {
   "cell_type": "code",
   "execution_count": 7,
   "id": "108316b1-9e91-4a09-8d59-971be0f09b9c",
   "metadata": {},
   "outputs": [
    {
     "name": "stdout",
     "output_type": "stream",
     "text": [
      "This service can store your bank informations, such as account/online banking id and password.\n"
     ]
    }
   ],
   "source": [
    "service1.show(1)"
   ]
  },
  {
   "cell_type": "code",
   "execution_count": 8,
   "id": "5652e19c-2502-43f6-a2b0-17029403dd6b",
   "metadata": {},
   "outputs": [
    {
     "name": "stdout",
     "output_type": "stream",
     "text": [
      "This service can track your monthly expenditures and help you manage your money and making a monthly budget plan.\n"
     ]
    }
   ],
   "source": [
    "service1.show(2)"
   ]
  },
  {
   "cell_type": "code",
   "execution_count": 9,
   "id": "c2941be2-9253-4723-af88-b2ae43536e34",
   "metadata": {},
   "outputs": [
    {
     "name": "stdout",
     "output_type": "stream",
     "text": [
      "This service is included in basic membership. The monthly sibscription fee is $15.\n"
     ]
    }
   ],
   "source": [
    "service1.choice(3)"
   ]
  },
  {
   "cell_type": "code",
   "execution_count": 10,
   "id": "7b91e231-034e-4b6a-85fd-535324f1d7ab",
   "metadata": {},
   "outputs": [
    {
     "name": "stdout",
     "output_type": "stream",
     "text": [
      "The service you chose is not available.Please provide a vaild service number.\n"
     ]
    }
   ],
   "source": [
    "service1.choice(5)"
   ]
  },
  {
   "cell_type": "code",
   "execution_count": 1,
   "id": "031e42e4-e71c-4f00-8d88-b190a1290047",
   "metadata": {},
   "outputs": [],
   "source": [
    "import package.user_subpackage.personal_info as ps"
   ]
  },
  {
   "cell_type": "code",
   "execution_count": 4,
   "id": "7a90ea78-25a5-4d5b-8542-88517e3ae85a",
   "metadata": {},
   "outputs": [],
   "source": [
    "p1 = ps.personal_info(\"Fanny\",30,\"1234@gmail.com\",\"$34500\")"
   ]
  },
  {
   "cell_type": "code",
   "execution_count": 7,
   "id": "27e99f45-aba3-4995-bbe1-96202690004b",
   "metadata": {},
   "outputs": [
    {
     "name": "stdout",
     "output_type": "stream",
     "text": [
      "Userid:Fanny Age:30 Email:1234@gmail.com Income:$34500\n"
     ]
    }
   ],
   "source": [
    "p1.show()"
   ]
  },
  {
   "cell_type": "code",
   "execution_count": 8,
   "id": "42ea7b3a-2368-49d3-9519-3f9b26d65e32",
   "metadata": {},
   "outputs": [],
   "source": [
    "p1.update(\"Cookie\",30,\"125@gmail.com\",\"$2123\")"
   ]
  },
  {
   "cell_type": "code",
   "execution_count": 9,
   "id": "d084e987-6a73-40fd-9cb2-0ee63b3bbf8e",
   "metadata": {},
   "outputs": [
    {
     "name": "stdout",
     "output_type": "stream",
     "text": [
      "Userid:Cookie Age:30 Email:125@gmail.com Income:$2123\n"
     ]
    }
   ],
   "source": [
    "p1.show()"
   ]
  },
  {
   "cell_type": "code",
   "execution_count": 10,
   "id": "45b7a5ca-835f-4493-9269-70c4179d9353",
   "metadata": {},
   "outputs": [],
   "source": [
    "p1.delete()"
   ]
  },
  {
   "cell_type": "code",
   "execution_count": 11,
   "id": "f86b6e56-9c5f-4817-9c4d-0b68ec10c109",
   "metadata": {},
   "outputs": [
    {
     "name": "stdout",
     "output_type": "stream",
     "text": [
      "Userid:  Age:  Email:  Income: \n"
     ]
    }
   ],
   "source": [
    "p1.show()"
   ]
  },
  {
   "cell_type": "code",
   "execution_count": 11,
   "id": "65c8f04d-156a-4a85-8fc2-e0e3e50107f3",
   "metadata": {},
   "outputs": [],
   "source": [
    "import package.user_subpackage.bank_info as bi"
   ]
  },
  {
   "cell_type": "code",
   "execution_count": 12,
   "id": "d8bd8d54-9972-4572-8010-ea80f449af85",
   "metadata": {},
   "outputs": [],
   "source": [
    "BOA= bi.password(\"123@456\",\"123456789!\")"
   ]
  },
  {
   "cell_type": "code",
   "execution_count": 13,
   "id": "b26b3d11-e28a-452b-82ea-052c1bf97146",
   "metadata": {},
   "outputs": [
    {
     "name": "stdout",
     "output_type": "stream",
     "text": [
      "userid: 123@456 password: 123456789!\n"
     ]
    }
   ],
   "source": [
    "BOA.show()"
   ]
  },
  {
   "cell_type": "code",
   "execution_count": 14,
   "id": "577cb0d5-8eaa-4953-a0fd-ece2809e7dca",
   "metadata": {},
   "outputs": [
    {
     "data": {
      "text/plain": [
       "('654@321', 'qwert')"
      ]
     },
     "execution_count": 14,
     "metadata": {},
     "output_type": "execute_result"
    }
   ],
   "source": [
    "BOA.update(\"654@321\",\"qwert\")"
   ]
  },
  {
   "cell_type": "code",
   "execution_count": 15,
   "id": "aa9c6798-d7fa-476d-97d1-247192654b0c",
   "metadata": {},
   "outputs": [
    {
     "data": {
      "text/plain": [
       "('', '')"
      ]
     },
     "execution_count": 15,
     "metadata": {},
     "output_type": "execute_result"
    }
   ],
   "source": [
    "BOA.delete()"
   ]
  },
  {
   "cell_type": "code",
   "execution_count": 17,
   "id": "121cfe61-b356-4f66-98fa-89b01c42ba38",
   "metadata": {},
   "outputs": [],
   "source": [
    "BMO=bi.password(\"zxc@vbn\",\"asd@qwe\")"
   ]
  },
  {
   "cell_type": "code",
   "execution_count": 18,
   "id": "9d89c8dc-af86-4110-bb7d-db5690f45199",
   "metadata": {},
   "outputs": [
    {
     "name": "stdout",
     "output_type": "stream",
     "text": [
      "userid: zxc@vbn password: asd@qwe\n"
     ]
    }
   ],
   "source": [
    "BMO.show()"
   ]
  },
  {
   "cell_type": "code",
   "execution_count": null,
   "id": "30f4e425-6573-4c70-88e7-7258d1e4943f",
   "metadata": {},
   "outputs": [],
   "source": []
  }
 ],
 "metadata": {
  "kernelspec": {
   "display_name": "Python 3",
   "language": "python",
   "name": "python3"
  },
  "language_info": {
   "codemirror_mode": {
    "name": "ipython",
    "version": 3
   },
   "file_extension": ".py",
   "mimetype": "text/x-python",
   "name": "python",
   "nbconvert_exporter": "python",
   "pygments_lexer": "ipython3",
   "version": "3.9.5"
  }
 },
 "nbformat": 4,
 "nbformat_minor": 5
}
